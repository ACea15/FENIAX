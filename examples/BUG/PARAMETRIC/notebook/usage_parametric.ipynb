{
 "cells": [
  {
   "cell_type": "code",
   "execution_count": 1,
   "metadata": {},
   "outputs": [
    {
     "name": "stdout",
     "output_type": "stream",
     "text": [
      "/mnt/c/Users/nakagawa/Desktop/FEM4INAS/FEM4INAS/examples/BUG/PARAMETRIC\n"
     ]
    },
    {
     "name": "stderr",
     "output_type": "stream",
     "text": [
      "/mnt/c/Users/nakagawa/Desktop/python_venv/feniax/lib/python3.12/site-packages/IPython/core/magics/osm.py:417: UserWarning: This is now an optional IPython functionality, setting dhist requires you to install the `pickleshare` library.\n",
      "  self.shell.db['dhist'] = compress_dhist(dhist)[-100:]\n"
     ]
    }
   ],
   "source": [
    "cd /mnt/c/Users/nakagawa/Desktop/FEM4INAS/FEM4INAS/examples/BUG/PARAMETRIC/"
   ]
  },
  {
   "cell_type": "code",
   "execution_count": 2,
   "metadata": {},
   "outputs": [],
   "source": [
    "import jax\n",
    "jax.config.update(\"jax_enable_x64\", True)\n",
    "import os,sys\n",
    "sys.path.append('/mnt/c/Users/nakagawa/Desktop/FEM4INAS/FEM4INAS/examples/BUG/PARAMETRIC/')\n",
    "from importlib import reload\n",
    "import sensitivity_handler\n",
    "import nastran_preprocessor\n",
    "import bug_handler\n",
    "import shutil\n",
    "import nastran_tools"
   ]
  },
  {
   "cell_type": "code",
   "execution_count": 3,
   "metadata": {},
   "outputs": [],
   "source": [
    "reload(sensitivity_handler)\n",
    "reload(nastran_preprocessor)\n",
    "reload(bug_handler)\n",
    "reload(nastran_tools)\n",
    "from sensitivity_handler import *\n",
    "from nastran_preprocessor import *\n",
    "from bug_handler import *\n",
    "from nastran_tools import *"
   ]
  },
  {
   "cell_type": "code",
   "execution_count": 8,
   "metadata": {},
   "outputs": [],
   "source": [
    "from parametric_study import decode_params"
   ]
  },
  {
   "cell_type": "code",
   "execution_count": 4,
   "metadata": {},
   "outputs": [],
   "source": [
    "import os\n",
    "os.environ[\"XLA_PYTHON_CLIENT_PREALLOCATE\"] = \"false\"\n",
    "os.environ[\"XLA_PYTHON_CLIENT_ALLOCATOR\"]=\"platform\""
   ]
  },
  {
   "cell_type": "code",
   "execution_count": 5,
   "metadata": {},
   "outputs": [],
   "source": [
    "bdfname='./BUG_103cao.bdf'\n",
    "handler=BUGHandler(bdfname)\n",
    "for name in AnnotationLabels:\n",
    "  fname='./Parts/'+name+'.bdf'\n",
    "  label=(name.split('_')[1]).upper()\n",
    "  handler.add_annotation(fname,label)\n",
    "handler.add_caero_annotation()\n",
    "handler.add_pshell_annotation()\n",
    "_=handler.get_component_names()"
   ]
  },
  {
   "cell_type": "code",
   "execution_count": 6,
   "metadata": {},
   "outputs": [],
   "source": [
    "nastran_loc='cmd.exe /c C:/MSC.Software/MSC_Nastran/20182/bin/nast20182.exe'"
   ]
  },
  {
   "cell_type": "code",
   "execution_count": 7,
   "metadata": {},
   "outputs": [],
   "source": [
    "params=dict()\n",
    "params['WING_SKIN-FEM-THICKNESS']=np.array([1.0,1.0])"
   ]
  },
  {
   "cell_type": "code",
   "execution_count": 9,
   "metadata": {},
   "outputs": [],
   "source": [
    "params_v_raw=dict()\n",
    "params_v_raw['WING_SKIN-FEM-THICKNESS']=[[0.8,1.0,1.2],[0.8,1.0,1.2]]\n",
    "params_v=decode_params(params_v_raw)"
   ]
  },
  {
   "cell_type": "code",
   "execution_count": 10,
   "metadata": {},
   "outputs": [
    {
     "data": {
      "text/plain": [
       "[{'WING_SKIN-FEM-THICKNESS': [0.8, 0.8]},\n",
       " {'WING_SKIN-FEM-THICKNESS': [0.8, 1.0]},\n",
       " {'WING_SKIN-FEM-THICKNESS': [0.8, 1.2]},\n",
       " {'WING_SKIN-FEM-THICKNESS': [1.0, 0.8]},\n",
       " {'WING_SKIN-FEM-THICKNESS': [1.0, 1.0]},\n",
       " {'WING_SKIN-FEM-THICKNESS': [1.0, 1.2]},\n",
       " {'WING_SKIN-FEM-THICKNESS': [1.2, 0.8]},\n",
       " {'WING_SKIN-FEM-THICKNESS': [1.2, 1.0]},\n",
       " {'WING_SKIN-FEM-THICKNESS': [1.2, 1.2]}]"
      ]
     },
     "execution_count": 10,
     "metadata": {},
     "output_type": "execute_result"
    }
   ],
   "source": [
    "params_v"
   ]
  },
  {
   "cell_type": "code",
   "execution_count": null,
   "metadata": {},
   "outputs": [],
   "source": [
    "preprocessor=NastranPreprocessor(nastran_loc)\n",
    "#variables: from root to tip\n",
    "fname_grid='./FEM/structuralGrid'\n",
    "preprocessor.set_config(bdfname,working_dir='./_temp_p',num_parallel=5)\n",
    "preprocessor.parametric_study(params_v,fname_grid,None)"
   ]
  }
 ],
 "metadata": {
  "kernelspec": {
   "display_name": "feniax",
   "language": "python",
   "name": "python3"
  },
  "language_info": {
   "codemirror_mode": {
    "name": "ipython",
    "version": 3
   },
   "file_extension": ".py",
   "mimetype": "text/x-python",
   "name": "python",
   "nbconvert_exporter": "python",
   "pygments_lexer": "ipython3",
   "version": "3.12.3"
  }
 },
 "nbformat": 4,
 "nbformat_minor": 2
}
