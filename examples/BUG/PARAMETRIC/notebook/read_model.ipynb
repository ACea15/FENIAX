{
 "cells": [
  {
   "cell_type": "code",
   "execution_count": 1,
   "metadata": {},
   "outputs": [],
   "source": [
    "import sys, os\n",
    "from pathlib import Path\n",
    "current_dir = os.path.join(Path().resolve())\n",
    "sys.path.append('/mnt/c/Users/nakagawa/Desktop/FEM4INAS/FEM4INAS/')\n",
    "#import PostProcessing.panels as panels\n"
   ]
  },
  {
   "cell_type": "code",
   "execution_count": 1,
   "metadata": {},
   "outputs": [
    {
     "data": {
      "text/plain": [
       "'/mnt/c/Users/nakagawa/Desktop/FEM4INAS/FEM4INAS/examples/BUG/PARAMETRIC/notebook'"
      ]
     },
     "execution_count": 1,
     "metadata": {},
     "output_type": "execute_result"
    }
   ],
   "source": [
    "pwd"
   ]
  },
  {
   "cell_type": "code",
   "execution_count": 3,
   "metadata": {},
   "outputs": [
    {
     "name": "stdout",
     "output_type": "stream",
     "text": [
      "/mnt/c/Users/nakagawa/Desktop/FEM4INAS/FEM4INAS/examples/BUG/NASTRAN\n"
     ]
    },
    {
     "name": "stderr",
     "output_type": "stream",
     "text": [
      "/mnt/c/Users/nakagawa/Desktop/python_venv/feniax/lib/python3.12/site-packages/IPython/core/magics/osm.py:417: UserWarning: This is now an optional IPython functionality, setting dhist requires you to install the `pickleshare` library.\n",
      "  self.shell.db['dhist'] = compress_dhist(dhist)[-100:]\n"
     ]
    }
   ],
   "source": [
    "cd /mnt/c/Users/nakagawa/Desktop/FEM4INAS/FEM4INAS/examples/BUG/NASTRAN"
   ]
  },
  {
   "cell_type": "code",
   "execution_count": 18,
   "metadata": {},
   "outputs": [],
   "source": [
    "from pyNastran.bdf.bdf import BDF\n",
    "import pandas as pd\n",
    "from fem4inas.unastran.asetbuilder import BuildAsetModel\n",
    "from fem4inas.unastran.aero import GenDLMPanels\n",
    "import PostProcessing.panels as panels\n",
    "import fem4inas.plotools.nastranvtk.bdfdef as bdfdef\n",
    "import numpy as np"
   ]
  },
  {
   "cell_type": "code",
   "execution_count": 5,
   "metadata": {},
   "outputs": [],
   "source": [
    "bdf = BDF(debug=None)\n",
    "bdf.read_bdf(\"./BUG_103cao.bdf\", validate=False)\n",
    "\n",
    "bdfaero = BDF(debug=None)\n",
    "bdfaero.read_bdf(\"./BUGaero1.bdf\", validate=False, punch=False)"
   ]
  },
  {
   "cell_type": "code",
   "execution_count": 20,
   "metadata": {},
   "outputs": [],
   "source": [
    "aeros = dict(RWing1=dict(nspan=2, nchord=8),\n",
    "             RWing2=dict(nspan=3, nchord=8),\n",
    "             RWing3=dict(nspan=9, nchord=8),\n",
    "             RWing4=dict(nspan=6, nchord=8),\n",
    "             RWing5=dict(nspan=4, nchord=8),\n",
    "             RHTP=dict(nspan=6, nchord=8),\n",
    "             LWing1=dict(nspan=2, nchord=8),\n",
    "             LWing2=dict(nspan=3, nchord=8),\n",
    "             LWing3=dict(nspan=9, nchord=8),\n",
    "             LWing4=dict(nspan=6, nchord=8),\n",
    "             LWing5=dict(nspan=4, nchord=8),\n",
    "             LHTP=dict(nspan=6, nchord=8),)\n",
    "\n",
    "aeros2ids = dict(RWing1=3504001,\n",
    "                 RWing2=3500001,\n",
    "                 RWing3=3501001,\n",
    "                 RWing4=3502001,\n",
    "                 RWing5=3503001,\n",
    "                 RHTP=3600001)\n",
    "\n",
    "for ki, i in aeros2ids.items():\n",
    "    aeros[ki]['p1'] = bdfaero.caeros[i].p1\n",
    "    aeros[ki]['p4'] = bdfaero.caeros[i].p4\n",
    "    aeros[ki]['x12'] = bdfaero.caeros[i].x12\n",
    "    aeros[ki]['x43'] = bdfaero.caeros[i].x43\n",
    "    ki_l=('L'+ki[1:])\n",
    "    aeros[ki_l]['p1'] = bdfaero.caeros[i].p1*np.array([1.,-1.,1.])\n",
    "    aeros[ki_l]['p4'] = bdfaero.caeros[i].p4*np.array([1.,-1.,1.])\n",
    "    aeros[ki_l]['x12'] = bdfaero.caeros[i].x12\n",
    "    aeros[ki_l]['x43'] = bdfaero.caeros[i].x43\n",
    "\n",
    "aeros['RWing1']['set1x'] = [1004, 2001] \n",
    "aeros['RWing2']['set1x'] = [2003, 2005, 2008, 2010] \n",
    "aeros['RWing3']['set1x'] = list(range(2012, 2030, 2))\n",
    "aeros['RWing4']['set1x'] = list(range(2030, 2044, 2))\n",
    "aeros['RWing5']['set1x'] = list(range(2044,2053, 2))\n",
    "aeros['RHTP']['set1x'] = list(range(4000, 4014))\n",
    "\n",
    "aeros['LWing1']['set1x'] = [1004, 10002001] \n",
    "aeros['LWing2']['set1x'] = [10002003, 10002005, 10002008, 100020010] \n",
    "aeros['LWing3']['set1x'] = list(range(10002012, 10002030, 2))\n",
    "aeros['LWing4']['set1x'] = list(range(10002030, 10002044, 2))\n",
    "aeros['LWing5']['set1x'] = list(range(10002044,10002053, 2))\n",
    "aeros['LHTP']['set1x'] = [4000]+list(range(10004001, 10004014))"
   ]
  },
  {
   "cell_type": "code",
   "execution_count": 21,
   "metadata": {},
   "outputs": [
    {
     "data": {
      "text/html": [
       "<text style=color:blue>DEBUG:   write_mesh.py:142            ---starting BDF.write_bdf of ./aero1.bdf---\n",
       "</text>"
      ],
      "text/plain": [
       "<IPython.core.display.HTML object>"
      ]
     },
     "metadata": {},
     "output_type": "display_data"
    },
    {
     "name": "stderr",
     "output_type": "stream",
     "text": [
      "/mnt/c/Users/nakagawa/Desktop/python_venv/feniax/lib/python3.12/site-packages/pyNastran/bdf/field_writer_8.py:295: UserWarning: bad fields = ['SET1', 666007, 10002003, 10002005, 10002008, 100020010]\n",
      "  warnings.warn(\"bad fields = %s\" % fields)\n"
     ]
    },
    {
     "data": {
      "text/html": [
       "<text style=color:blue>DEBUG:   bdf.py:1351                  ---starting BDF.read_bdf of ./BUG_103cao.bdf---\n",
       "</text>"
      ],
      "text/plain": [
       "<IPython.core.display.HTML object>"
      ]
     },
     "metadata": {},
     "output_type": "display_data"
    },
    {
     "data": {
      "text/html": [
       "<text style=color:blue>DEBUG:   pybdf.py:713                 opening '/mnt/c/Users/nakagawa/Desktop/FEM4INAS/FEM4INAS/examples/BUG/NASTRAN/BUG_103cao.bdf'\n",
       "</text>"
      ],
      "text/plain": [
       "<IPython.core.display.HTML object>"
      ]
     },
     "metadata": {},
     "output_type": "display_data"
    },
    {
     "data": {
      "text/html": [
       "<text style=color:blue>DEBUG:   pybdf.py:713                 opening '/mnt/c/Users/nakagawa/Desktop/FEM4INAS/FEM4INAS/examples/BUG/NASTRAN/Parts/BUG_Fuselage_VTP.bdf'\n",
       "</text>"
      ],
      "text/plain": [
       "<IPython.core.display.HTML object>"
      ]
     },
     "metadata": {},
     "output_type": "display_data"
    },
    {
     "data": {
      "text/html": [
       "<text style=color:blue>DEBUG:   pybdf.py:713                 opening '/mnt/c/Users/nakagawa/Desktop/FEM4INAS/FEM4INAS/examples/BUG/NASTRAN/Parts/BUG_WING_LWBOX.bdf'\n",
       "</text>"
      ],
      "text/plain": [
       "<IPython.core.display.HTML object>"
      ]
     },
     "metadata": {},
     "output_type": "display_data"
    },
    {
     "data": {
      "text/html": [
       "<text style=color:blue>DEBUG:   pybdf.py:713                 opening '/mnt/c/Users/nakagawa/Desktop/FEM4INAS/FEM4INAS/examples/BUG/NASTRAN/Parts/BUG_WING_RWBOX.bdf'\n",
       "</text>"
      ],
      "text/plain": [
       "<IPython.core.display.HTML object>"
      ]
     },
     "metadata": {},
     "output_type": "display_data"
    },
    {
     "data": {
      "text/html": [
       "<text style=color:blue>DEBUG:   pybdf.py:713                 opening '/mnt/c/Users/nakagawa/Desktop/FEM4INAS/FEM4INAS/examples/BUG/NASTRAN/Parts/fuselage_LWBOX_rbe.bdf'\n",
       "</text>"
      ],
      "text/plain": [
       "<IPython.core.display.HTML object>"
      ]
     },
     "metadata": {},
     "output_type": "display_data"
    },
    {
     "data": {
      "text/html": [
       "<text style=color:blue>DEBUG:   pybdf.py:713                 opening '/mnt/c/Users/nakagawa/Desktop/FEM4INAS/FEM4INAS/examples/BUG/NASTRAN/Parts/fuselage_RWBOX_rbe.bdf'\n",
       "</text>"
      ],
      "text/plain": [
       "<IPython.core.display.HTML object>"
      ]
     },
     "metadata": {},
     "output_type": "display_data"
    },
    {
     "data": {
      "text/html": [
       "<text style=color:blue>DEBUG:   pybdf.py:713                 opening '/mnt/c/Users/nakagawa/Desktop/FEM4INAS/FEM4INAS/examples/BUG/NASTRAN/Parts/MTOW_FUEL_LWBOX.bdf'\n",
       "</text>"
      ],
      "text/plain": [
       "<IPython.core.display.HTML object>"
      ]
     },
     "metadata": {},
     "output_type": "display_data"
    },
    {
     "data": {
      "text/html": [
       "<text style=color:blue>DEBUG:   pybdf.py:713                 opening '/mnt/c/Users/nakagawa/Desktop/FEM4INAS/FEM4INAS/examples/BUG/NASTRAN/Parts/MTOW_FUEL_RWBOXmod.bdf'\n",
       "</text>"
      ],
      "text/plain": [
       "<IPython.core.display.HTML object>"
      ]
     },
     "metadata": {},
     "output_type": "display_data"
    },
    {
     "data": {
      "text/html": [
       "<text style=color:blue>DEBUG:   pybdf.py:713                 opening '/mnt/c/Users/nakagawa/Desktop/FEM4INAS/FEM4INAS/examples/BUG/NASTRAN/Parts/BUG_LHTP.bdf'\n",
       "</text>"
      ],
      "text/plain": [
       "<IPython.core.display.HTML object>"
      ]
     },
     "metadata": {},
     "output_type": "display_data"
    },
    {
     "data": {
      "text/html": [
       "<text style=color:blue>DEBUG:   pybdf.py:713                 opening '/mnt/c/Users/nakagawa/Desktop/FEM4INAS/FEM4INAS/examples/BUG/NASTRAN/Parts/BUG_RHTP.bdf'\n",
       "</text>"
      ],
      "text/plain": [
       "<IPython.core.display.HTML object>"
      ]
     },
     "metadata": {},
     "output_type": "display_data"
    },
    {
     "data": {
      "text/html": [
       "<text style=color:blue>DEBUG:   pybdf.py:713                 opening '/mnt/c/Users/nakagawa/Desktop/FEM4INAS/FEM4INAS/examples/BUG/NASTRAN/Config/asets_clamped_reduced.bdf'\n",
       "</text>"
      ],
      "text/plain": [
       "<IPython.core.display.HTML object>"
      ]
     },
     "metadata": {},
     "output_type": "display_data"
    },
    {
     "data": {
      "text/html": [
       "<text style=color:blue>DEBUG:   cross_reference.py:151       Cross Referencing...\n",
       "</text>"
      ],
      "text/plain": [
       "<IPython.core.display.HTML object>"
      ]
     },
     "metadata": {},
     "output_type": "display_data"
    },
    {
     "data": {
      "text/html": [
       "<text style=color:blue>DEBUG:   bdf.py:1415                  ---finished BDF.read_bdf of ./BUG_103cao.bdf---\n",
       "</text>"
      ],
      "text/plain": [
       "<IPython.core.display.HTML object>"
      ]
     },
     "metadata": {},
     "output_type": "display_data"
    },
    {
     "data": {
      "text/html": [
       "<text style=color:blue>DEBUG:   write_mesh.py:142            ---starting BDF.write_bdf of BUG_103cao/Ref.bdf---\n",
       "</text>"
      ],
      "text/plain": [
       "<IPython.core.display.HTML object>"
      ]
     },
     "metadata": {},
     "output_type": "display_data"
    },
    {
     "data": {
      "text/html": [
       "<text style=color:blue>DEBUG:   bdf.py:1351                  ---starting BDF.read_bdf of BUG_103cao/Ref.bdf---\n",
       "</text>"
      ],
      "text/plain": [
       "<IPython.core.display.HTML object>"
      ]
     },
     "metadata": {},
     "output_type": "display_data"
    },
    {
     "data": {
      "text/html": [
       "<text style=color:blue>DEBUG:   pybdf.py:713                 opening '/mnt/c/Users/nakagawa/Desktop/FEM4INAS/FEM4INAS/examples/BUG/NASTRAN/BUG_103cao/Ref.bdf'\n",
       "</text>"
      ],
      "text/plain": [
       "<IPython.core.display.HTML object>"
      ]
     },
     "metadata": {},
     "output_type": "display_data"
    },
    {
     "data": {
      "text/html": [
       "<text style=color:blue>DEBUG:   cross_reference.py:151       Cross Referencing...\n",
       "</text>"
      ],
      "text/plain": [
       "<IPython.core.display.HTML object>"
      ]
     },
     "metadata": {},
     "output_type": "display_data"
    },
    {
     "data": {
      "text/html": [
       "<text style=color:blue>DEBUG:   bdf.py:1415                  ---finished BDF.read_bdf of BUG_103cao/Ref.bdf---\n",
       "</text>"
      ],
      "text/plain": [
       "<IPython.core.display.HTML object>"
      ]
     },
     "metadata": {},
     "output_type": "display_data"
    },
    {
     "name": "stdout",
     "output_type": "stream",
     "text": [
      "---BDF Statistics---\n",
      "SOL 103\n",
      "\n",
      "bdf.spcs[1]: 1\n",
      "  SPC1:    1\n",
      "\n",
      "bdf.params: 2\n",
      "  PARAM    : 2\n",
      "\n",
      "bdf.nodes: 16358\n",
      "  GRID     : 16358\n",
      "\n",
      "bdf.coords: 2\n",
      "  CORD2R   : 2\n",
      "\n",
      "bdf.elements: 33120\n",
      "  CBAR     : 66\n",
      "  CBEAM    : 15908\n",
      "  CQUAD4   : 17070\n",
      "  CTRIA3   : 76\n",
      "\n",
      "bdf.rigid_elements: 138\n",
      "  RBE2     : 33\n",
      "  RBE3     : 105\n",
      "\n",
      "bdf.properties: 17636\n",
      "  PBAR     : 46\n",
      "  PBEAM    : 444\n",
      "  PSHELL   : 17146\n",
      "\n",
      "bdf.masses: 424\n",
      "  CONM2    : 424\n",
      "\n",
      "bdf.materials: 15014\n",
      "  MAT1     : 6\n",
      "  MAT2     : 15008\n",
      "\n",
      "bdf.methods: 1\n",
      "  EIGRL    : 1\n",
      "\n",
      "\n",
      "Found 15908 CBEAM elements\n",
      "Building connectivity for CBEAM\n",
      "  connectivity done...\n",
      "Writing CBEAM.vtu\n",
      "Found 0 RBE1 elements\n",
      "Found 105 RBE3 elements\n",
      "Building connectivity for RBE3\n",
      "  connectivity done...\n",
      "Writing RBE3.vtu\n",
      "Found 33 RBE2 elements\n",
      "Building connectivity for RBE2\n",
      "  connectivity done...\n",
      "Writing RBE2.vtu\n",
      "Found 0 RBAR elements\n",
      "Found 0 RBAR1 elements\n",
      "Found 424 CONM2 elements\n",
      "Building connectivity for CONM2\n",
      "  connectivity done...\n",
      "Writing CONM2.vtu\n",
      "Found 17070 CQUAD4 elements\n",
      "Building connectivity for CQUAD4\n",
      "  connectivity done...\n",
      "Writing CQUAD4.vtu\n",
      "Found 76 CTRIA3 elements\n",
      "Building connectivity for CTRIA3\n",
      "  connectivity done...\n",
      "Writing CTRIA3.vtu\n",
      "Found 66 CBAR elements\n",
      "Building connectivity for CBAR\n",
      "  connectivity done...\n",
      "Writing CBAR.vtu\n",
      "Found 0 CBUSH elements\n",
      "Found 0 PLOTEL elements\n"
     ]
    }
   ],
   "source": [
    "dlm = GenDLMPanels.from_dict(aeros) # pass your dictionary with DLM model\n",
    "dlm.build_model()\n",
    "dlm.model.write_bdf(\"./aero1.bdf\") # write the bdf file\n",
    "\n",
    "grid = panels.caero2grid(dlm.components, dlm.caero1) # build grid from dlm model\n",
    "panels.build_gridmesh(grid, 'dlm_mesh_full')  #  write paraview mesh\n",
    "bdfdef.vtkRef(\"./BUG_103cao.bdf\")  # write full FE paraview"
   ]
  }
 ],
 "metadata": {
  "kernelspec": {
   "display_name": "feniax",
   "language": "python",
   "name": "python3"
  },
  "language_info": {
   "codemirror_mode": {
    "name": "ipython",
    "version": 3
   },
   "file_extension": ".py",
   "mimetype": "text/x-python",
   "name": "python",
   "nbconvert_exporter": "python",
   "pygments_lexer": "ipython3",
   "version": "3.12.3"
  }
 },
 "nbformat": 4,
 "nbformat_minor": 2
}
