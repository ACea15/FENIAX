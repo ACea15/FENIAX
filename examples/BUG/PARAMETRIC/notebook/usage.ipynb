{
 "cells": [
  {
   "cell_type": "code",
   "execution_count": 2,
   "metadata": {},
   "outputs": [],
   "source": [
    "import os,sys\n",
    "sys.path.append('../')\n",
    "from importlib import reload\n",
    "import copy"
   ]
  },
  {
   "cell_type": "code",
   "execution_count": 3,
   "metadata": {},
   "outputs": [],
   "source": [
    "import convert2sol400\n",
    "reload(convert2sol400)\n",
    "from convert2sol400 import *"
   ]
  },
  {
   "cell_type": "code",
   "execution_count": 116,
   "metadata": {},
   "outputs": [],
   "source": [
    "import nastran_tools\n",
    "reload(nastran_tools)\n",
    "from nastran_tools import *"
   ]
  },
  {
   "cell_type": "code",
   "execution_count": 140,
   "metadata": {},
   "outputs": [],
   "source": [
    "import bug_handler\n",
    "import nastran_preprocessor\n",
    "import bug_param_decoder\n",
    "reload(bug_handler)\n",
    "reload(nastran_preprocessor)\n",
    "reload(bug_param_decoder)\n",
    "from nastran_preprocessor import *\n",
    "from bug_param_decoder import *\n",
    "from bug_handler import *"
   ]
  },
  {
   "cell_type": "code",
   "execution_count": 145,
   "metadata": {},
   "outputs": [],
   "source": [
    "#Annotaion\n",
    "bdfname='../BUG_103cao.bdf'\n",
    "handler=BUGHandler(bdfname)\n",
    "for name in AnnotationLabels:\n",
    "  fname='../Parts/'+name+'.bdf'\n",
    "  label=(name.split('_')[1]).upper()\n",
    "  handler.add_annotation(fname,label)\n",
    "handler.add_caero_annotation()\n",
    "handler.add_pshell_annotation()\n",
    "handler.set_q_reference(Q_reference)"
   ]
  },
  {
   "cell_type": "code",
   "execution_count": null,
   "metadata": {},
   "outputs": [],
   "source": [
    "BUGHandler(bdfname)\n",
    "for name in AnnotationLabels:\n",
    "  fname='../Parts/'+name+'.bdf'\n",
    "  label=(name.split('_')[1]).upper()\n",
    "  handler.add_annotation(fname,label)\n",
    "handler.add_caero_annotation()\n",
    "handler.add_pshell_annotation()\n",
    "handler.set_q_reference(Q_reference)"
   ]
  },
  {
   "cell_type": "code",
   "execution_count": 142,
   "metadata": {},
   "outputs": [],
   "source": [
    "#Add custom annotaion for pshell, pbar,conm, \n",
    "handler.add_annotation_zone('ZONE1',xmin=10.,xmax=25.,ymin=5.,ymax=10.)"
   ]
  },
  {
   "cell_type": "code",
   "execution_count": 146,
   "metadata": {},
   "outputs": [
    {
     "data": {
      "text/plain": [
       "{'THICKNESS': ['WING_SPAR',\n",
       "  'WING_RIB',\n",
       "  'WING_SKIN_LOWER',\n",
       "  'WING_SKIN_UPPER',\n",
       "  'WING_SKIN'],\n",
       " 'PLY_ANGLE': ['WING_SPAR_COMP',\n",
       "  'WING_RIB_COMP',\n",
       "  'WING_SKIN_LOWER_COMP',\n",
       "  'WING_SKIN_UPPER_COMP',\n",
       "  'WING_SKIN_COMP'],\n",
       " 'MASS_X1': ['FUSELAGE', 'WING', 'FUEL', 'HTP'],\n",
       " 'PX': ['WING', 'HTP'],\n",
       " 'CHORD': ['WING', 'HTP']}"
      ]
     },
     "execution_count": 146,
     "metadata": {},
     "output_type": "execute_result"
    }
   ],
   "source": [
    "#show component names for each variable names\n",
    "handler.get_component_names()"
   ]
  },
  {
   "cell_type": "code",
   "execution_count": null,
   "metadata": {},
   "outputs": [],
   "source": [
    "#visualize the annotation\n",
    "handler.plot_shells(handler.annotation_pshell['WING_SKIN_ZONE1'])"
   ]
  },
  {
   "cell_type": "code",
   "execution_count": null,
   "metadata": {},
   "outputs": [],
   "source": [
    "#Visualize nodes\n",
    "handler.plot_nodes()"
   ]
  },
  {
   "cell_type": "code",
   "execution_count": 147,
   "metadata": {},
   "outputs": [],
   "source": [
    "#variables: from root to tip\n",
    "params=dict()\n",
    "params['WING_SKIN_UPPER_COMP-FEM-PLY_ANGLE']=np.array([[20.,15.],[30.,10]]) #angles in degrees\n",
    "params['WING_SKIN_LOWER_COMP-FEM-PLY_ANGLE']=np.array([[20.,-15.],[30.,-10]])\n",
    "param_c=handler.convert_design_param(params)"
   ]
  },
  {
   "cell_type": "code",
   "execution_count": 101,
   "metadata": {},
   "outputs": [],
   "source": [
    "nastran_loc='cmd.exe /c C:/MSC.Software/MSC_Nastran/20182/bin/nast20182.exe'\n",
    "preprocessor=NastranPreprocessor(nastran_loc)\n",
    "preprocessor.eigenvalue_analysis(param_c,bdfname,working_dir='../_temp/')\n",
    "preprocessor.save_property('./FEM_test/') #Save Ka, Ma, eigenvalues, eigenvectors"
   ]
  }
 ],
 "metadata": {
  "kernelspec": {
   "display_name": "feniax",
   "language": "python",
   "name": "python3"
  },
  "language_info": {
   "codemirror_mode": {
    "name": "ipython",
    "version": 3
   },
   "file_extension": ".py",
   "mimetype": "text/x-python",
   "name": "python",
   "nbconvert_exporter": "python",
   "pygments_lexer": "ipython3",
   "version": "3.12.3"
  }
 },
 "nbformat": 4,
 "nbformat_minor": 2
}
