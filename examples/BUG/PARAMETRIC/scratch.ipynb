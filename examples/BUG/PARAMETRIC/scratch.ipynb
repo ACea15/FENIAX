{
 "cells": [
  {
   "cell_type": "code",
   "execution_count": 4,
   "metadata": {},
   "outputs": [],
   "source": [
    "import feniax_sensitivity\n",
    "import bug_sensitivity_thickness\n",
    "import bug_handler\n",
    "import pch_parser\n",
    "\n",
    "import matplotlib.pyplot as plt\n",
    "from pyNastran.op2.op2 import read_op2\n",
    "from importlib import reload"
   ]
  },
  {
   "cell_type": "code",
   "execution_count": 5,
   "metadata": {},
   "outputs": [],
   "source": [
    "reload(feniax_sensitivity)\n",
    "reload(bug_sensitivity_thickness)\n",
    "reload(bug_handler)\n",
    "reload(pch_parser)\n",
    "from pch_parser import *\n",
    "from bug_handler import *\n",
    "from feniax_sensitivity import *\n",
    "from bug_sensitivity_thickness import *"
   ]
  },
  {
   "cell_type": "code",
   "execution_count": 6,
   "metadata": {},
   "outputs": [],
   "source": [
    "NASTRAN_LOC='cmd.exe /c C:/MSC.Software/MSC_Nastran/20182/bin/nast20182.exe'"
   ]
  },
  {
   "cell_type": "code",
   "execution_count": 7,
   "metadata": {},
   "outputs": [],
   "source": [
    "fname='../NASTRAN/BUG_103cap.bdf'\n",
    "model=NastranDesignModel_thickness(fname)"
   ]
  },
  {
   "cell_type": "code",
   "execution_count": 8,
   "metadata": {},
   "outputs": [],
   "source": [
    "ymax=model.bdf_handler.node_coords[:,1].max()\n",
    "xmax=model.bdf_handler.node_coords[:,0].max()\n",
    "coord_control_y=np.linspace(0,ymax,4)\n",
    "coord_control1=np.stack([np.zeros_like(coord_control_y),coord_control_y],axis=1)\n",
    "coord_control2=np.stack([xmax*np.ones_like(coord_control_y),coord_control_y],axis=1)\n",
    "coord_control=np.concatenate([coord_control1,coord_control2],axis=0)\n",
    "param=np.array([0.1,0.4,0.2,0.1])\n",
    "param=np.concatenate([param,param],axis=0)"
   ]
  },
  {
   "cell_type": "code",
   "execution_count": 9,
   "metadata": {},
   "outputs": [],
   "source": [
    "dir_input='./input/'\n",
    "dir_output='./output/'\n",
    "if not os.path.exists(dir_input):\n",
    "  os.makedirs(dir_input)\n",
    "if not os.path.exists(dir_output):\n",
    "  os.makedirs(dir_output)\n",
    "nastranhandler=NastranHandler(model,dir_input,dir_output)\n",
    "sensitivitynastran=SensitivityNastran(model,dir_input,dir_output)"
   ]
  },
  {
   "cell_type": "code",
   "execution_count": 10,
   "metadata": {},
   "outputs": [],
   "source": [
    "min_thick_ratio=0.5\n",
    "max_thick_ratio=1.5\n",
    "\n",
    "args=(coord_control,min_thick_ratio,max_thick_ratio)"
   ]
  },
  {
   "cell_type": "code",
   "execution_count": 11,
   "metadata": {},
   "outputs": [],
   "source": [
    "Ka,Ma=nastranhandler.get_rom(param,*args)"
   ]
  },
  {
   "cell_type": "code",
   "execution_count": 12,
   "metadata": {},
   "outputs": [],
   "source": [
    "sensitivitynastran=SensitivityNastran(model,dir_input,dir_output,delta=1e-2)\n",
    "dKa,dMa=sensitivitynastran.get_rom_sensitivity(param,*args)"
   ]
  },
  {
   "cell_type": "code",
   "execution_count": 13,
   "metadata": {},
   "outputs": [],
   "source": [
    "fname='../NASTRAN/BUG_103cao.bdf'\n",
    "model=NastranDesignModel_thickness(fname)\n",
    "sensitivitynastran=SensitivityNastran(model,dir_input,dir_output,delta=1e-2)\n",
    "dvec,dval=sensitivitynastran.get_eig_sensitivity(param,*args)"
   ]
  }
 ],
 "metadata": {
  "kernelspec": {
   "display_name": "feniax",
   "language": "python",
   "name": "python3"
  },
  "language_info": {
   "codemirror_mode": {
    "name": "ipython",
    "version": 3
   },
   "file_extension": ".py",
   "mimetype": "text/x-python",
   "name": "python",
   "nbconvert_exporter": "python",
   "pygments_lexer": "ipython3",
   "version": "3.12.3"
  }
 },
 "nbformat": 4,
 "nbformat_minor": 2
}
